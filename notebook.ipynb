{
 "cells": [
  {
   "cell_type": "code",
   "execution_count": null,
   "metadata": {
    "_kg_hide-input": true,
    "execution": {
     "iopub.execute_input": "2022-02-09T05:12:28.503017Z",
     "iopub.status.busy": "2022-02-09T05:12:28.502607Z",
     "iopub.status.idle": "2022-02-09T05:12:30.087147Z",
     "shell.execute_reply": "2022-02-09T05:12:30.086312Z",
     "shell.execute_reply.started": "2022-02-09T05:12:28.502986Z"
    }
   },
   "outputs": [],
   "source": [
    "srp = pd.read_csv(\"../input/stack-overflow-annual-developer-survey-2021/survey_results_responses.csv\")\n",
    "\n",
    "l = [\n",
    "    'Accessibility',\n",
    " 'Age',\n",
    " 'Age1stCode',\n",
    " 'CompFreq',\n",
    " 'CompTotal',\n",
    " 'Country',\n",
    " 'Currency',\n",
    " 'DevType',\n",
    " 'EdLevel',\n",
    " 'Employment',\n",
    " 'Ethnicity',\n",
    " 'Gender',\n",
    " 'LearnCode',\n",
    " 'MainBranch',\n",
    " 'MentalHealth',\n",
    " 'NEWOtherComms',\n",
    " 'NEWSOSites',\n",
    " 'NEWStuck',\n",
    " 'OrgSize',\n",
    " 'SOAccount',\n",
    " 'SOComm',\n",
    " 'SOPartFreq',\n",
    " 'SOVisitFreq',\n",
    " 'Sexuality',\n",
    " 'SurveyEase',\n",
    " 'SurveyLength',\n",
    " 'Trans',\n",
    " 'UK_Country',\n",
    " 'US_State',\n",
    " 'YearsCode',\n",
    " 'YearsCodePro'\n",
    "]\n",
    "\n",
    "srp = srp.loc[ : , l]\n",
    "\n",
    "srp['Respondent'] = np.arange(1, len(srp) + 1)\n",
    "srp = srp.set_index(\"Respondent\")\n",
    "\n",
    "srp.head()"
   ]
  },
  {
   "cell_type": "code",
   "execution_count": null,
   "metadata": {
    "_kg_hide-input": true,
    "execution": {
     "iopub.execute_input": "2022-02-09T05:12:30.089417Z",
     "iopub.status.busy": "2022-02-09T05:12:30.088949Z",
     "iopub.status.idle": "2022-02-09T05:12:30.105884Z",
     "shell.execute_reply": "2022-02-09T05:12:30.105217Z",
     "shell.execute_reply.started": "2022-02-09T05:12:30.089376Z"
    }
   },
   "outputs": [],
   "source": [
    "srs = pd.read_csv(\"../input/stack-overflow-annual-developer-survey-2021/survey_results_questions.csv\")\n",
    "srs[\"column\"] = srs[\"qname\"]\n",
    "srs = srs[[\"column\", \"question\"]]\n",
    "\n",
    "to_drop = []\n",
    "\n",
    "for i in srs[\"column\"] :\n",
    "    if i not in l :\n",
    "        to_drop.append(i)\n",
    "\n",
    "srs = srs[~srs['column'].isin(to_drop)]\n",
    "srs = srs.set_index(\"column\")\n",
    "srs = srs.sort_values(\"column\")\n",
    "\n",
    "srs = srs[\"question\"]\n",
    "srs"
   ]
  },
  {
   "cell_type": "code",
   "execution_count": null,
   "metadata": {
    "_kg_hide-input": true,
    "execution": {
     "iopub.execute_input": "2022-02-09T05:12:30.107831Z",
     "iopub.status.busy": "2022-02-09T05:12:30.107348Z",
     "iopub.status.idle": "2022-02-09T05:12:30.152645Z",
     "shell.execute_reply": "2022-02-09T05:12:30.151771Z",
     "shell.execute_reply.started": "2022-02-09T05:12:30.107788Z"
    }
   },
   "outputs": [],
   "source": [
    "cols = [\n",
    "    # About\n",
    "    'Country',\n",
    "    'Age',\n",
    "    'Gender',\n",
    "    'EdLevel',\n",
    "    'MentalHealth',\n",
    "    # Programming\n",
    "    'Ethnicity',\n",
    "    'YearsCode',\n",
    "    'YearsCodePro',\n",
    "    'NEWStuck',\n",
    "    # Work\n",
    "    'Employment',\n",
    "    'DevType',\n",
    "]\n",
    "\n",
    "result_public = srp[cols].copy()\n",
    "result_scheme = srs[cols]\n",
    "\n",
    "print(\"Columns Selected :\")\n",
    "for i in cols :\n",
    "    print(\"    \", i)"
   ]
  },
  {
   "cell_type": "code",
   "execution_count": null,
   "metadata": {
    "_kg_hide-input": true,
    "_kg_hide-output": true,
    "execution": {
     "iopub.execute_input": "2022-02-09T05:12:30.155436Z",
     "iopub.status.busy": "2022-02-09T05:12:30.154893Z",
     "iopub.status.idle": "2022-02-09T05:12:52.604725Z",
     "shell.execute_reply": "2022-02-09T05:12:52.603773Z",
     "shell.execute_reply.started": "2022-02-09T05:12:30.155399Z"
    }
   },
   "outputs": [],
   "source": [
    "result_public = result_public[\n",
    "    (result_public[\"Age\"] == '25-34 years old') |\n",
    "    (result_public[\"Age\"] == '18-24 years old') |\n",
    "    (result_public[\"Age\"] == '35-44 years old') |\n",
    "    (result_public[\"Age\"] == '45-54 years old') |\n",
    "    (result_public[\"Age\"] == 'Under 18 years old') |\n",
    "    (result_public[\"Age\"] == '65 years or older') |\n",
    "    (result_public[\"Age\"] == '55-64 years old') |\n",
    "    (result_public[\"Age\"] == '25-34 years old')\n",
    "]\n",
    "\n",
    "for i in range(81832) :\n",
    "    if (result_public[\"Age\"].iloc[i] == '25-34 years old') :\n",
    "        result_public[\"Age\"].iloc[i] = 30\n",
    "    elif (result_public[\"Age\"].iloc[i] == '18-24 years old') :\n",
    "        result_public[\"Age\"].iloc[i] = 21\n",
    "    elif (result_public[\"Age\"].iloc[i] == '35-44 years old') :\n",
    "        result_public[\"Age\"].iloc[i] = 40\n",
    "    elif (result_public[\"Age\"].iloc[i] == '45-54 years old') :\n",
    "        result_public[\"Age\"].iloc[i] = 50\n",
    "    elif (result_public[\"Age\"].iloc[i] == 'Under 18 years old') :\n",
    "        result_public[\"Age\"].iloc[i] = 16\n",
    "    elif (result_public[\"Age\"].iloc[i] == '65 years or older') :\n",
    "        result_public[\"Age\"].iloc[i] = 65\n",
    "    elif (result_public[\"Age\"].iloc[i] == '55-64 years old') :\n",
    "        result_public[\"Age\"].iloc[i] = 58\n",
    "\n",
    "result_public = result_public.astype({\"Age\": int})\n",
    "result_public.head()"
   ]
  },
  {
   "cell_type": "code",
   "execution_count": null,
   "metadata": {
    "_kg_hide-input": true,
    "execution": {
     "iopub.execute_input": "2022-02-09T05:12:52.606289Z",
     "iopub.status.busy": "2022-02-09T05:12:52.606044Z",
     "iopub.status.idle": "2022-02-09T05:12:52.720056Z",
     "shell.execute_reply": "2022-02-09T05:12:52.719207Z",
     "shell.execute_reply.started": "2022-02-09T05:12:52.606253Z"
    }
   },
   "outputs": [],
   "source": [
    "result_public = result_public.dropna()\n",
    "to_drop = ['Less than 1 year', 'More than 50 years']\n",
    "result_public = result_public[~result_public['YearsCode'].isin(to_drop)]\n",
    "result_public = result_public.astype({\"YearsCode\": int})\n",
    "\n",
    "to_drop = ['Less than 1 year', 'More than 50 years']\n",
    "result_public = result_public[~result_public['YearsCodePro'].isin(to_drop)]\n",
    "result_public = result_public.astype({\"YearsCodePro\": int})\n",
    "\n",
    "result_public.head()"
   ]
  },
  {
   "cell_type": "code",
   "execution_count": null,
   "metadata": {
    "execution": {
     "iopub.execute_input": "2022-02-09T05:12:52.72228Z",
     "iopub.status.busy": "2022-02-09T05:12:52.721311Z",
     "iopub.status.idle": "2022-02-09T05:12:52.732721Z",
     "shell.execute_reply": "2022-02-09T05:12:52.731826Z",
     "shell.execute_reply.started": "2022-02-09T05:12:52.722234Z"
    }
   },
   "outputs": [],
   "source": [
    "result_public[\"Gender\"].unique()"
   ]
  },
  {
   "cell_type": "code",
   "execution_count": null,
   "metadata": {
    "execution": {
     "iopub.execute_input": "2022-02-09T05:12:52.734062Z",
     "iopub.status.busy": "2022-02-09T05:12:52.733799Z",
     "iopub.status.idle": "2022-02-09T05:12:52.764964Z",
     "shell.execute_reply": "2022-02-09T05:12:52.764193Z",
     "shell.execute_reply.started": "2022-02-09T05:12:52.734015Z"
    }
   },
   "outputs": [],
   "source": [
    "result_public = result_public[(result_public[\"Gender\"] == \"Man\") | (result_public[\"Gender\"] == \"Woman\")]\n",
    "result_public[\"Gender\"].unique()"
   ]
  },
  {
   "cell_type": "code",
   "execution_count": null,
   "metadata": {
    "_kg_hide-input": true,
    "execution": {
     "iopub.execute_input": "2022-02-09T05:12:52.76693Z",
     "iopub.status.busy": "2022-02-09T05:12:52.766592Z",
     "iopub.status.idle": "2022-02-09T05:12:53.132319Z",
     "shell.execute_reply": "2022-02-09T05:12:53.131297Z",
     "shell.execute_reply.started": "2022-02-09T05:12:52.766887Z"
    }
   },
   "outputs": [],
   "source": [
    "result_public['Country'] = result_public['Country'].replace(\"United Kingdom of Great Britain and Northern Ireland\", 'UK & Ireland')\n",
    "plt.figure(figsize=(16,6))\n",
    "plt.xticks(rotation = 70)\n",
    "plt.title(\"Where do programmers live ?\")\n",
    "sns.countplot(x = \"Country\", data = result_public, order = result_public['Country'].value_counts().index[0 : 15], palette = sns.light_palette(\"#9D61C8\", reverse = True, n_colors = int(15 * 1.2)));"
   ]
  },
  {
   "cell_type": "code",
   "execution_count": null,
   "metadata": {
    "_kg_hide-input": true,
    "execution": {
     "iopub.execute_input": "2022-02-09T05:12:53.133787Z",
     "iopub.status.busy": "2022-02-09T05:12:53.133548Z",
     "iopub.status.idle": "2022-02-09T05:12:53.374813Z",
     "shell.execute_reply": "2022-02-09T05:12:53.374226Z",
     "shell.execute_reply.started": "2022-02-09T05:12:53.133756Z"
    }
   },
   "outputs": [],
   "source": [
    "plt.figure(figsize=(16,6))\n",
    "plt.title(\"Programmer's Age\")\n",
    "sns.countplot(x = \"Age\", data = result_public, order = result_public['Age'].value_counts().index[ : ], color='#9D61C8').set_xlabel(\"Approx Age\")"
   ]
  },
  {
   "cell_type": "markdown",
   "metadata": {},
   "source": [
    "***"
   ]
  },
  {
   "cell_type": "code",
   "execution_count": null,
   "metadata": {
    "_kg_hide-input": true,
    "execution": {
     "iopub.execute_input": "2022-02-09T05:12:53.377116Z",
     "iopub.status.busy": "2022-02-09T05:12:53.37678Z",
     "iopub.status.idle": "2022-02-09T05:12:53.715266Z",
     "shell.execute_reply": "2022-02-09T05:12:53.714561Z",
     "shell.execute_reply.started": "2022-02-09T05:12:53.377082Z"
    }
   },
   "outputs": [],
   "source": [
    "plt.figure(figsize=(10, 8))\n",
    "sns.countplot(y = result_public[\"EdLevel\"], palette = sns.light_palette(\"#9D61C8\", reverse = True, n_colors = int(len(result_public[\"EdLevel\"].unique()) * 1.2)), order = result_public[\"EdLevel\"].value_counts().index)"
   ]
  },
  {
   "cell_type": "markdown",
   "metadata": {},
   "source": [
    "***"
   ]
  },
  {
   "cell_type": "code",
   "execution_count": null,
   "metadata": {
    "_kg_hide-input": true,
    "execution": {
     "iopub.execute_input": "2022-02-09T05:12:53.71665Z",
     "iopub.status.busy": "2022-02-09T05:12:53.716276Z",
     "iopub.status.idle": "2022-02-09T05:12:53.855064Z",
     "shell.execute_reply": "2022-02-09T05:12:53.853976Z",
     "shell.execute_reply.started": "2022-02-09T05:12:53.716615Z"
    }
   },
   "outputs": [],
   "source": [
    "plt.figure(figsize=(14,6))\n",
    "colors = [\"#9D61C8\", \"#B799CB\", \"#C5B9CD\"]\n",
    "plt.pie(result_public[\"Employment\"].value_counts(), labels=list(result_public[\"Employment\"].value_counts().index), colors=colors, autopct='%.1f%%');"
   ]
  },
  {
   "cell_type": "code",
   "execution_count": null,
   "metadata": {
    "_kg_hide-input": true,
    "execution": {
     "iopub.execute_input": "2022-02-09T05:12:53.857367Z",
     "iopub.status.busy": "2022-02-09T05:12:53.856993Z",
     "iopub.status.idle": "2022-02-09T05:12:59.214529Z",
     "shell.execute_reply": "2022-02-09T05:12:59.213665Z",
     "shell.execute_reply.started": "2022-02-09T05:12:53.857323Z"
    }
   },
   "outputs": [],
   "source": [
    "entries = list(result_public[\"DevType\"].unique())\n",
    "li = []\n",
    "for i in entries :\n",
    "    if \",\" in i :\n",
    "        lii = i.split(\",\")\n",
    "        for j in lii :\n",
    "            li.append(j.strip())\n",
    "\n",
    "lf = []\n",
    "for i in li :\n",
    "    if \";\" in i:\n",
    "        liif = i.split(\";\")\n",
    "        for j in liif :\n",
    "            lf.append(j.strip())\n",
    "\n",
    "for i in lf :\n",
    "    if i == \"Developer\" :\n",
    "        lf.pop(lf.index(\"Developer\"))\n",
    "    elif i == \"data\" :\n",
    "        lf.pop(lf.index(\"data\"))\n",
    "    elif i == \"etc.)\" :\n",
    "        lf.pop(lf.index(\"etc.)\"))\n",
    "        \n",
    "dev_type_df = pd.DataFrame(lf)\n",
    "dev_type_df[0].value_counts().head(10)\n",
    "plt.figure(figsize=(15, 10))\n",
    "sns.countplot(y=dev_type_df[0], order = dev_type_df[0].value_counts().index[ : 19], palette = sns.light_palette(\"#9D61C8\", reverse = True, n_colors = int(19 * 1.2)))"
   ]
  },
  {
   "cell_type": "code",
   "execution_count": null,
   "metadata": {
    "_kg_hide-input": true,
    "execution": {
     "iopub.execute_input": "2022-02-09T05:12:59.216031Z",
     "iopub.status.busy": "2022-02-09T05:12:59.215794Z",
     "iopub.status.idle": "2022-02-09T05:12:59.724373Z",
     "shell.execute_reply": "2022-02-09T05:12:59.723803Z",
     "shell.execute_reply.started": "2022-02-09T05:12:59.216005Z"
    }
   },
   "outputs": [],
   "source": [
    "plt.figure(figsize = (20, 6))\n",
    "sns.histplot(x = result_public[\"YearsCode\"], color = \"purple\", bins=30, kde=True);"
   ]
  },
  {
   "cell_type": "code",
   "execution_count": null,
   "metadata": {
    "_kg_hide-input": true,
    "execution": {
     "iopub.execute_input": "2022-02-09T05:12:59.725677Z",
     "iopub.status.busy": "2022-02-09T05:12:59.725377Z",
     "iopub.status.idle": "2022-02-09T05:13:00.252859Z",
     "shell.execute_reply": "2022-02-09T05:13:00.252183Z",
     "shell.execute_reply.started": "2022-02-09T05:12:59.725651Z"
    }
   },
   "outputs": [],
   "source": [
    "plt.figure(figsize = (20, 6))\n",
    "sns.histplot(x = result_public[\"YearsCodePro\"], color = \"purple\", bins=30, kde=True);"
   ]
  },
  {
   "cell_type": "code",
   "execution_count": null,
   "metadata": {
    "_kg_hide-input": true,
    "execution": {
     "iopub.execute_input": "2022-02-09T05:13:00.254221Z",
     "iopub.status.busy": "2022-02-09T05:13:00.253855Z",
     "iopub.status.idle": "2022-02-09T05:13:00.343817Z",
     "shell.execute_reply": "2022-02-09T05:13:00.34302Z",
     "shell.execute_reply.started": "2022-02-09T05:13:00.254186Z"
    }
   },
   "outputs": [],
   "source": [
    "plt.figure(figsize=(14,6))\n",
    "colors = [\"#9D61C8\", \"#B799CB\"]\n",
    "plt.pie(result_public[\"Gender\"].value_counts(), labels=list(result_public[\"Gender\"].value_counts().index), colors=colors, autopct='%.1f%%');"
   ]
  },
  {
   "cell_type": "code",
   "execution_count": null,
   "metadata": {
    "_kg_hide-input": true,
    "execution": {
     "iopub.execute_input": "2022-02-09T05:13:00.345563Z",
     "iopub.status.busy": "2022-02-09T05:13:00.345211Z",
     "iopub.status.idle": "2022-02-09T05:13:00.370723Z",
     "shell.execute_reply": "2022-02-09T05:13:00.369704Z",
     "shell.execute_reply.started": "2022-02-09T05:13:00.345526Z"
    }
   },
   "outputs": [],
   "source": [
    "mental_health = pd.DataFrame(result_public[\"MentalHealth\"].value_counts().head(8))\n",
    "mental_health = mental_health[mental_health.index != \"None of the above\"]\n",
    "mental_health = mental_health[mental_health.index != \"I have a mood or emotional disorder (e.g. depression, bipolar disorder);I have an anxiety disorder\"]\n",
    "mental_health = mental_health[mental_health.index != \"Prefer not to say\"]\n",
    "mental_health[\"MentalHealth\"].iloc[0] += 571\n",
    "mental_health = mental_health[mental_health.index != \"I have a concentration and/or memory disorder (e.g. ADHD);I have a mood or emotional disorder (e.g. depression, bipolar disorder);I have an anxiety disorder\"]\n",
    "\n",
    "mental_health"
   ]
  },
  {
   "cell_type": "code",
   "execution_count": null,
   "metadata": {
    "_kg_hide-input": true,
    "execution": {
     "iopub.execute_input": "2022-02-09T05:13:00.37353Z",
     "iopub.status.busy": "2022-02-09T05:13:00.372798Z",
     "iopub.status.idle": "2022-02-09T05:13:00.73762Z",
     "shell.execute_reply": "2022-02-09T05:13:00.73693Z",
     "shell.execute_reply.started": "2022-02-09T05:13:00.373475Z"
    }
   },
   "outputs": [],
   "source": [
    "wc = WordCloud(background_color ='white', colormap = \"flare\").generate(\"Anxiety ADHD Depression Autism\")\n",
    "\n",
    "plt.figure(figsize = (8, 8), facecolor = None)\n",
    "plt.imshow(wc)\n",
    "plt.axis(\"off\")\n",
    "plt.tight_layout(pad = 0)\n",
    " \n",
    "plt.show()"
   ]
  }
 ],
 "metadata": {
  "kernelspec": {
   "display_name": "Python 3 (ipykernel)",
   "language": "python",
   "name": "python3"
  },
  "language_info": {
   "codemirror_mode": {
    "name": "ipython",
    "version": 3
   },
   "file_extension": ".py",
   "mimetype": "text/x-python",
   "name": "python",
   "nbconvert_exporter": "python",
   "pygments_lexer": "ipython3",
   "version": "3.10.9"
  }
 },
 "nbformat": 4,
 "nbformat_minor": 4
}
